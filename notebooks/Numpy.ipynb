{
 "cells": [
  {
   "cell_type": "code",
   "execution_count": 4,
   "metadata": {},
   "outputs": [],
   "source": [
    "#NumPy\n",
    "import numpy as np"
   ]
  },
  {
   "cell_type": "code",
   "execution_count": 5,
   "metadata": {},
   "outputs": [
    {
     "name": "stdout",
     "output_type": "stream",
     "text": [
      "[-1, 0, 1] <class 'list'>\n"
     ]
    }
   ],
   "source": [
    " # Creating a Python list \"my_list\".\n",
    "my_list = [-1,0,1]\n",
    "# Well, it's a good idea to confirm items in \"my_list\" and its type! \n",
    "print(my_list, type(my_list))"
   ]
  },
  {
   "cell_type": "code",
   "execution_count": 6,
   "metadata": {},
   "outputs": [
    {
     "name": "stdout",
     "output_type": "stream",
     "text": [
      "[-1  0  1] <class 'numpy.ndarray'>\n"
     ]
    }
   ],
   "source": [
    "my_array = np.array(my_list)\n",
    "print( my_array, type(my_array) )"
   ]
  },
  {
   "cell_type": "code",
   "execution_count": 7,
   "metadata": {},
   "outputs": [
    {
     "name": "stdout",
     "output_type": "stream",
     "text": [
      "<class 'list'>\n",
      "[[1, 2, 3], [4, 5, 6], [7, 8, 9]]\n",
      "<class 'numpy.ndarray'>\n",
      "[[1 2 3]\n",
      " [4 5 6]\n",
      " [7 8 9]]\n"
     ]
    }
   ],
   "source": [
    "import numpy as np\n",
    "# Let's create and cast a list of list to generate 2-D array\n",
    "my_matrix = [[1,2,3],[4,5,6],[7,8,9]]\n",
    "print(type(my_matrix))\n",
    "print( my_matrix )\n",
    "# Two-dimensional array from Matrix\n",
    "matrix_one = np.array(my_matrix)\n",
    "print(type(matrix_one))\n",
    "print(matrix_one)"
   ]
  },
  {
   "cell_type": "code",
   "execution_count": 8,
   "metadata": {},
   "outputs": [
    {
     "name": "stdout",
     "output_type": "stream",
     "text": [
      "[0 1 2 3 4 5 6 7 8 9]\n",
      "[ 0  2  4  6  8 10]\n",
      "[0. 2. 4. 6. 8.]\n"
     ]
    }
   ],
   "source": [
    "# similar to range() in Python, up to but not including 10\n",
    "print( np.arange(0,10) )\n",
    "\n",
    "# We can give a step (2 in this case)\n",
    "print( np.arange(0,11,2) )\n",
    "\n",
    "# We can give the step and dtype\n",
    "print( np.arange(0,10,2, dtype=float) )"
   ]
  },
  {
   "cell_type": "code",
   "execution_count": 9,
   "metadata": {},
   "outputs": [
    {
     "name": "stdout",
     "output_type": "stream",
     "text": [
      "[ 1.          2.55555556  4.11111111  5.66666667  7.22222222  8.77777778\n",
      " 10.33333333 11.88888889 13.44444444 15.        ]\n",
      "(array([ 5.  ,  6.25,  7.5 ,  8.75, 10.  , 11.25, 12.5 , 13.75, 15.  ]), 1.25)\n",
      "array is:  [ 5.    6.25  7.5   8.75 10.   11.25 12.5  13.75 15.  ]\n",
      "stepsize is:  1.25\n"
     ]
    }
   ],
   "source": [
    "# start from 1 & end at 15 with 10 evenly spaced points b/w 1 to 15.\n",
    "print( np.linspace(1, 15, 10) )\n",
    "\n",
    "# Let's find the step size with \"retstep\" which returns the array and the step size\n",
    "my_linspace = np.linspace(5, 15, 9, retstep=True)\n",
    "print( my_linspace )\n",
    "\n",
    "# We can grab array and step size separately.\n",
    "print('array is: ',my_linspace[0])\n",
    "print('stepsize is: ', my_linspace[1])"
   ]
  },
  {
   "cell_type": "code",
   "execution_count": 10,
   "metadata": {},
   "outputs": [
    {
     "name": "stdout",
     "output_type": "stream",
     "text": [
      "Shape :  (16,)\n",
      "Size :  16\n",
      "Type :  int64\n",
      "Reshaped :  [[ 0  1  2  3]\n",
      " [ 4  5  6  7]\n",
      " [ 8  9 10 11]\n",
      " [12 13 14 15]]\n",
      "New shape :  (4, 4)\n",
      "New shape :  (16, 1)\n",
      "New shape :  (1, 16)\n",
      "Data Type :  int64\n"
     ]
    }
   ],
   "source": [
    "import numpy as np\n",
    "array_arange = np.arange(16) # using arange()\n",
    "array_randint = np.random.randint(0,100,10) # using randint()\n",
    "\n",
    "# Let's take vector array, array_arange\n",
    "print(\"Shape : \", array_arange.shape)\n",
    "# As from its name, size of an array\n",
    "print(\"Size : \", array_arange.size)\n",
    "# type attribute returns the type of the data in the array.\n",
    "print(\"Type : \", array_arange.dtype)\n",
    " # Notice the two sets of brackets in the output, \n",
    " #we are using reshape() to convert 1-D array to 2-D array/matrix\n",
    "print(\"Reshaped : \", array_arange.reshape(4,4))\n",
    "\n",
    "print(\"New shape : \", array_arange.reshape(4,4).shape )\n",
    "print(\"New shape : \",  array_arange.reshape(16,1).shape)\n",
    "print(\"New shape : \",  array_arange.reshape(1,16).shape)\n",
    "# What is the data type of the object in the array?\n",
    "print(\"Data Type : \", array_arange.dtype)"
   ]
  },
  {
   "cell_type": "code",
   "execution_count": 11,
   "metadata": {},
   "outputs": [
    {
     "name": "stdout",
     "output_type": "stream",
     "text": [
      "[[ 0  1  2  3]\n",
      " [ 4  5  6  7]\n",
      " [ 8  9 10 11]\n",
      " [12 13 14 15]\n",
      " [16 17 18 19]\n",
      " [20 21 22 23]]\n"
     ]
    }
   ],
   "source": [
    "import numpy as np\n",
    "array_2d= np.arange(24) # creating 1D array using arange() \n",
    "array_2d.shape = (6,4) # converting into 2D\n",
    "print(array_2d) # How the 2D array look like!"
   ]
  },
  {
   "cell_type": "code",
   "execution_count": 12,
   "metadata": {},
   "outputs": [
    {
     "name": "stdout",
     "output_type": "stream",
     "text": [
      "[[0 1]\n",
      " [4 5]]\n",
      "[[10 11]\n",
      " [14 15]]\n"
     ]
    }
   ],
   "source": [
    "# array_2d[:2,:2].shape gives (2,2), \n",
    "# 4 elements for top left corner\n",
    "# array_2d[0:2,0:2] is same as array_2d[:2,:2]\n",
    "print(array_2d[:2,:2])\n",
    "\n",
    "# getting inner slice\n",
    "print(array_2d[2:4,2:4])"
   ]
  },
  {
   "cell_type": "code",
   "execution_count": 13,
   "metadata": {},
   "outputs": [
    {
     "name": "stdout",
     "output_type": "stream",
     "text": [
      "Original Array :  [0 1 2 3 4 5 6 7 8 9]\n",
      "After Broadcasting :  [500 500 500 500 500   5   6   7   8   9]\n"
     ]
    }
   ],
   "source": [
    "#Broadcasting\n",
    "# Let's create an array using arange()\n",
    "array_1d = np.arange(0,10)\n",
    "print(\"Original Array : \", array_1d)\n",
    "array_1d[0:5] = 500\n",
    "print(\"After Broadcasting : \", array_1d)"
   ]
  },
  {
   "cell_type": "code",
   "execution_count": 14,
   "metadata": {},
   "outputs": [
    {
     "name": "stdout",
     "output_type": "stream",
     "text": [
      "2D Array\n",
      "[[1. 1. 1. 1.]\n",
      " [1. 1. 1. 1.]\n",
      " [1. 1. 1. 1.]\n",
      " [1. 1. 1. 1.]]\n",
      "\n",
      " After Broadcasting\n",
      "[[300. 300. 300. 300.]\n",
      " [  1.   1.   1.   1.]\n",
      " [  1.   1.   1.   1.]\n",
      " [  1.   1.   1.   1.]]\n"
     ]
    }
   ],
   "source": [
    "# Lets create a 2D martix with ones\n",
    "array_2d = np.ones((4,4))\n",
    "\n",
    "print(\"2D Array\")\n",
    "print(array_2d)\n",
    "\n",
    "# Lets broadcast 300 to the first row of array_2d\n",
    "array_2d[0] = 300\n",
    "print(\"\\n After Broadcasting\")\n",
    "print(array_2d)"
   ]
  },
  {
   "cell_type": "code",
   "execution_count": 15,
   "metadata": {},
   "outputs": [
    {
     "name": "stdout",
     "output_type": "stream",
     "text": [
      "[[300. 301. 302. 303.]\n",
      " [  1.   2.   3.   4.]\n",
      " [  1.   2.   3.   4.]\n",
      " [  1.   2.   3.   4.]]\n"
     ]
    }
   ],
   "source": [
    "# Lets create a simple 1-D array and broadcast it to array_2d\n",
    "print( array_2d + np.arange(0,4) )"
   ]
  },
  {
   "cell_type": "code",
   "execution_count": 16,
   "metadata": {},
   "outputs": [
    {
     "name": "stdout",
     "output_type": "stream",
     "text": [
      "[1 2 3]\n",
      "Shape of the array is: (3,), this is 1-D array \n",
      "\n",
      "[[1]\n",
      " [2]\n",
      " [3]]\n",
      "Shape of the array is: (3, 1), this is 2-D array\n"
     ]
    }
   ],
   "source": [
    "array_1 = np.arange(1,4)\n",
    "array_2 = np.arange(1,4)[:, np.newaxis]\n",
    "# The official way of printing is used, format() and len() are used for revisions\n",
    "\n",
    "print(array_1)\n",
    "print(\"Shape of the array is: {}, this is {}-D array \\n\"\n",
    "      .format(array_1.shape,len(array_1.shape)))\n",
    "# (3,) indicates that this is a one-dimensional array (vector)\n",
    "\n",
    "print(array_2)\n",
    "print(\"Shape of the array is: {}, this is {}-D array\"\n",
    "      .format(array_2.shape,len(array_2.shape)))\n",
    "# (3,) indicates that this is a one-dimensional array (vector)"
   ]
  },
  {
   "cell_type": "code",
   "execution_count": 17,
   "metadata": {},
   "outputs": [
    {
     "name": "stdout",
     "output_type": "stream",
     "text": [
      "Original Array :  [ 1  2  3  4  5  6  7  8  9 10]\n",
      "Is Greater than 3 Array :  [False False False  True  True  True  True  True  True  True]\n",
      "IsEven Array :  [False  True False  True False  True False  True False  True]\n"
     ]
    }
   ],
   "source": [
    "#Boolean Masking\n",
    "# Creating a simple array using arange()\n",
    "array_1d = np.arange(1,11)\n",
    "print(\"Original Array : \", array_1d )\n",
    "\n",
    "# lets create a bool_array for some condition, say array_1d > 3\n",
    "bool_array = array_1d > 3\n",
    "print(\"Is Greater than 3 Array : \", bool_array )\n",
    "\n",
    "# A number is even, if number % 2 is 0\n",
    "mod_2_mask_1d = 0 == array_1d % 2\n",
    "print(\"IsEven Array : \", mod_2_mask_1d )"
   ]
  },
  {
   "cell_type": "code",
   "execution_count": 20,
   "metadata": {},
   "outputs": [
    {
     "data": {
      "text/plain": [
       "array([[100, 101, 102, 103, 104],\n",
       "       [105, 106, 107, 108, 109],\n",
       "       [110, 111, 112, 113, 114],\n",
       "       [115, 116, 117, 118, 119],\n",
       "       [120, 121, 122, 123, 124]])"
      ]
     },
     "execution_count": 20,
     "metadata": {},
     "output_type": "execute_result"
    }
   ],
   "source": [
    "def getArray():\n",
    "   # Your Code here\n",
    "   ary = np.arange(0,25)\n",
    "   ary = ary.reshape(5,5)\n",
    "   ary = ary + 100\n",
    "\n",
    "\n",
    "   return ary\n",
    "\n",
    "getArray()"
   ]
  }
 ],
 "metadata": {
  "kernelspec": {
   "display_name": ".venv",
   "language": "python",
   "name": "python3"
  },
  "language_info": {
   "codemirror_mode": {
    "name": "ipython",
    "version": 3
   },
   "file_extension": ".py",
   "mimetype": "text/x-python",
   "name": "python",
   "nbconvert_exporter": "python",
   "pygments_lexer": "ipython3",
   "version": "3.10.13"
  }
 },
 "nbformat": 4,
 "nbformat_minor": 2
}
